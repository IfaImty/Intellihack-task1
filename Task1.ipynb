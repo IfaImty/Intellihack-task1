{
  "nbformat": 4,
  "nbformat_minor": 0,
  "metadata": {
    "colab": {
      "provenance": [],
      "include_colab_link": true
    },
    "kernelspec": {
      "name": "python3",
      "display_name": "Python 3"
    },
    "language_info": {
      "name": "python"
    }
  },
  "cells": [
    {
      "cell_type": "markdown",
      "metadata": {
        "id": "view-in-github",
        "colab_type": "text"
      },
      "source": [
        "<a href=\"https://colab.research.google.com/github/AnasSAV/Intellihack_Mirai_01/blob/main/Task1.ipynb\" target=\"_parent\"><img src=\"https://colab.research.google.com/assets/colab-badge.svg\" alt=\"Open In Colab\"/></a>"
      ]
    },
    {
      "cell_type": "code",
      "execution_count": 43,
      "metadata": {
        "colab": {
          "base_uri": "https://localhost:8080/"
        },
        "id": "w4QSMotH2xyW",
        "outputId": "2d4abc12-89ab-480d-a091-06e0d7ddcd5f"
      },
      "outputs": [
        {
          "output_type": "stream",
          "name": "stdout",
          "text": [
            "Drive already mounted at /content/drive; to attempt to forcibly remount, call drive.mount(\"/content/drive\", force_remount=True).\n"
          ]
        }
      ],
      "source": [
        "from google.colab import drive\n",
        "drive.mount('/content/drive')"
      ]
    },
    {
      "cell_type": "code",
      "source": [
        "import numpy as np\n",
        "\n",
        "!pip install catboost\n",
        "\n",
        "from catboost import CatBoostClassifier\n",
        "\n",
        "import pandas as pd\n",
        "import matplotlib.pyplot as plt\n",
        "from sklearn.model_selection import train_test_split, GridSearchCV\n",
        "from sklearn.preprocessing import StandardScaler\n",
        "from sklearn.linear_model import LogisticRegression\n",
        "from sklearn.tree import DecisionTreeClassifier\n",
        "from sklearn.ensemble import RandomForestClassifier, GradientBoostingClassifier\n",
        "from sklearn.metrics import (\n",
        "    accuracy_score,\n",
        "    classification_report,\n",
        "    confusion_matrix,\n",
        "    roc_curve,\n",
        "    auc\n",
        ")"
      ],
      "metadata": {
        "id": "Xfj6d6ti4iJX",
        "colab": {
          "base_uri": "https://localhost:8080/"
        },
        "outputId": "f3895e9c-57fc-4cd8-b80f-d1ce4beaa3c8"
      },
      "execution_count": 44,
      "outputs": [
        {
          "output_type": "stream",
          "name": "stdout",
          "text": [
            "Requirement already satisfied: catboost in /usr/local/lib/python3.11/dist-packages (1.2.7)\n",
            "Requirement already satisfied: graphviz in /usr/local/lib/python3.11/dist-packages (from catboost) (0.20.3)\n",
            "Requirement already satisfied: matplotlib in /usr/local/lib/python3.11/dist-packages (from catboost) (3.10.0)\n",
            "Requirement already satisfied: numpy<2.0,>=1.16.0 in /usr/local/lib/python3.11/dist-packages (from catboost) (1.26.4)\n",
            "Requirement already satisfied: pandas>=0.24 in /usr/local/lib/python3.11/dist-packages (from catboost) (2.2.2)\n",
            "Requirement already satisfied: scipy in /usr/local/lib/python3.11/dist-packages (from catboost) (1.13.1)\n",
            "Requirement already satisfied: plotly in /usr/local/lib/python3.11/dist-packages (from catboost) (5.24.1)\n",
            "Requirement already satisfied: six in /usr/local/lib/python3.11/dist-packages (from catboost) (1.17.0)\n",
            "Requirement already satisfied: python-dateutil>=2.8.2 in /usr/local/lib/python3.11/dist-packages (from pandas>=0.24->catboost) (2.8.2)\n",
            "Requirement already satisfied: pytz>=2020.1 in /usr/local/lib/python3.11/dist-packages (from pandas>=0.24->catboost) (2025.1)\n",
            "Requirement already satisfied: tzdata>=2022.7 in /usr/local/lib/python3.11/dist-packages (from pandas>=0.24->catboost) (2025.1)\n",
            "Requirement already satisfied: contourpy>=1.0.1 in /usr/local/lib/python3.11/dist-packages (from matplotlib->catboost) (1.3.1)\n",
            "Requirement already satisfied: cycler>=0.10 in /usr/local/lib/python3.11/dist-packages (from matplotlib->catboost) (0.12.1)\n",
            "Requirement already satisfied: fonttools>=4.22.0 in /usr/local/lib/python3.11/dist-packages (from matplotlib->catboost) (4.56.0)\n",
            "Requirement already satisfied: kiwisolver>=1.3.1 in /usr/local/lib/python3.11/dist-packages (from matplotlib->catboost) (1.4.8)\n",
            "Requirement already satisfied: packaging>=20.0 in /usr/local/lib/python3.11/dist-packages (from matplotlib->catboost) (24.2)\n",
            "Requirement already satisfied: pillow>=8 in /usr/local/lib/python3.11/dist-packages (from matplotlib->catboost) (11.1.0)\n",
            "Requirement already satisfied: pyparsing>=2.3.1 in /usr/local/lib/python3.11/dist-packages (from matplotlib->catboost) (3.2.1)\n",
            "Requirement already satisfied: tenacity>=6.2.0 in /usr/local/lib/python3.11/dist-packages (from plotly->catboost) (9.0.0)\n"
          ]
        }
      ]
    },
    {
      "cell_type": "code",
      "source": [
        "df = pd.read_csv('/content/drive/MyDrive/Mirai - ML hackathon/weather_data.csv')\n",
        "\n",
        "print(\"DataFrame Shape:\", df.shape)\n",
        "df"
      ],
      "metadata": {
        "id": "e7w2emxf36G8",
        "colab": {
          "base_uri": "https://localhost:8080/",
          "height": 442
        },
        "outputId": "2bc7d930-99a8-47e4-c5f7-b3913fc84a84"
      },
      "execution_count": 45,
      "outputs": [
        {
          "output_type": "stream",
          "name": "stdout",
          "text": [
            "DataFrame Shape: (311, 7)\n"
          ]
        },
        {
          "output_type": "execute_result",
          "data": {
            "text/plain": [
              "           date  avg_temperature   humidity  avg_wind_speed rain_or_not  \\\n",
              "0    2023-01-01        23.745401  46.140905        7.845981        Rain   \n",
              "1    2023-01-02        30.030503  59.876587        5.382457        Rain   \n",
              "2    2023-01-03        28.365224  51.464618       13.158008        Rain   \n",
              "3    2023-01-04        27.550929  53.103799        5.886677        Rain   \n",
              "4    2023-01-05        23.639303  57.826186       12.248992        Rain   \n",
              "..          ...              ...        ...             ...         ...   \n",
              "306  2023-11-03        22.072834  37.756910        4.729355     No Rain   \n",
              "307  2023-11-04        19.645885  42.190604        8.092369     No Rain   \n",
              "308  2023-11-05        23.884496  36.205508       11.860847        Rain   \n",
              "309  2023-11-06        18.168418  34.785000        4.781288     No Rain   \n",
              "310  2023-11-07        19.389714  37.717416        9.388371     No Rain   \n",
              "\n",
              "     cloud_cover     pressure  \n",
              "0      20.851051   992.965681  \n",
              "1      93.059521  1037.273025  \n",
              "2      11.636640  1034.193357  \n",
              "3      81.744971   968.610142  \n",
              "4      38.062329  1030.264331  \n",
              "..           ...          ...  \n",
              "306    27.307081   954.564875  \n",
              "307    51.807877   964.002410  \n",
              "308    29.872557   977.681431  \n",
              "309    94.067925  1047.153269  \n",
              "310    25.929676   983.134701  \n",
              "\n",
              "[311 rows x 7 columns]"
            ],
            "text/html": [
              "\n",
              "  <div id=\"df-f010b9b9-3f6c-4b82-8b75-8fcdde73c559\" class=\"colab-df-container\">\n",
              "    <div>\n",
              "<style scoped>\n",
              "    .dataframe tbody tr th:only-of-type {\n",
              "        vertical-align: middle;\n",
              "    }\n",
              "\n",
              "    .dataframe tbody tr th {\n",
              "        vertical-align: top;\n",
              "    }\n",
              "\n",
              "    .dataframe thead th {\n",
              "        text-align: right;\n",
              "    }\n",
              "</style>\n",
              "<table border=\"1\" class=\"dataframe\">\n",
              "  <thead>\n",
              "    <tr style=\"text-align: right;\">\n",
              "      <th></th>\n",
              "      <th>date</th>\n",
              "      <th>avg_temperature</th>\n",
              "      <th>humidity</th>\n",
              "      <th>avg_wind_speed</th>\n",
              "      <th>rain_or_not</th>\n",
              "      <th>cloud_cover</th>\n",
              "      <th>pressure</th>\n",
              "    </tr>\n",
              "  </thead>\n",
              "  <tbody>\n",
              "    <tr>\n",
              "      <th>0</th>\n",
              "      <td>2023-01-01</td>\n",
              "      <td>23.745401</td>\n",
              "      <td>46.140905</td>\n",
              "      <td>7.845981</td>\n",
              "      <td>Rain</td>\n",
              "      <td>20.851051</td>\n",
              "      <td>992.965681</td>\n",
              "    </tr>\n",
              "    <tr>\n",
              "      <th>1</th>\n",
              "      <td>2023-01-02</td>\n",
              "      <td>30.030503</td>\n",
              "      <td>59.876587</td>\n",
              "      <td>5.382457</td>\n",
              "      <td>Rain</td>\n",
              "      <td>93.059521</td>\n",
              "      <td>1037.273025</td>\n",
              "    </tr>\n",
              "    <tr>\n",
              "      <th>2</th>\n",
              "      <td>2023-01-03</td>\n",
              "      <td>28.365224</td>\n",
              "      <td>51.464618</td>\n",
              "      <td>13.158008</td>\n",
              "      <td>Rain</td>\n",
              "      <td>11.636640</td>\n",
              "      <td>1034.193357</td>\n",
              "    </tr>\n",
              "    <tr>\n",
              "      <th>3</th>\n",
              "      <td>2023-01-04</td>\n",
              "      <td>27.550929</td>\n",
              "      <td>53.103799</td>\n",
              "      <td>5.886677</td>\n",
              "      <td>Rain</td>\n",
              "      <td>81.744971</td>\n",
              "      <td>968.610142</td>\n",
              "    </tr>\n",
              "    <tr>\n",
              "      <th>4</th>\n",
              "      <td>2023-01-05</td>\n",
              "      <td>23.639303</td>\n",
              "      <td>57.826186</td>\n",
              "      <td>12.248992</td>\n",
              "      <td>Rain</td>\n",
              "      <td>38.062329</td>\n",
              "      <td>1030.264331</td>\n",
              "    </tr>\n",
              "    <tr>\n",
              "      <th>...</th>\n",
              "      <td>...</td>\n",
              "      <td>...</td>\n",
              "      <td>...</td>\n",
              "      <td>...</td>\n",
              "      <td>...</td>\n",
              "      <td>...</td>\n",
              "      <td>...</td>\n",
              "    </tr>\n",
              "    <tr>\n",
              "      <th>306</th>\n",
              "      <td>2023-11-03</td>\n",
              "      <td>22.072834</td>\n",
              "      <td>37.756910</td>\n",
              "      <td>4.729355</td>\n",
              "      <td>No Rain</td>\n",
              "      <td>27.307081</td>\n",
              "      <td>954.564875</td>\n",
              "    </tr>\n",
              "    <tr>\n",
              "      <th>307</th>\n",
              "      <td>2023-11-04</td>\n",
              "      <td>19.645885</td>\n",
              "      <td>42.190604</td>\n",
              "      <td>8.092369</td>\n",
              "      <td>No Rain</td>\n",
              "      <td>51.807877</td>\n",
              "      <td>964.002410</td>\n",
              "    </tr>\n",
              "    <tr>\n",
              "      <th>308</th>\n",
              "      <td>2023-11-05</td>\n",
              "      <td>23.884496</td>\n",
              "      <td>36.205508</td>\n",
              "      <td>11.860847</td>\n",
              "      <td>Rain</td>\n",
              "      <td>29.872557</td>\n",
              "      <td>977.681431</td>\n",
              "    </tr>\n",
              "    <tr>\n",
              "      <th>309</th>\n",
              "      <td>2023-11-06</td>\n",
              "      <td>18.168418</td>\n",
              "      <td>34.785000</td>\n",
              "      <td>4.781288</td>\n",
              "      <td>No Rain</td>\n",
              "      <td>94.067925</td>\n",
              "      <td>1047.153269</td>\n",
              "    </tr>\n",
              "    <tr>\n",
              "      <th>310</th>\n",
              "      <td>2023-11-07</td>\n",
              "      <td>19.389714</td>\n",
              "      <td>37.717416</td>\n",
              "      <td>9.388371</td>\n",
              "      <td>No Rain</td>\n",
              "      <td>25.929676</td>\n",
              "      <td>983.134701</td>\n",
              "    </tr>\n",
              "  </tbody>\n",
              "</table>\n",
              "<p>311 rows × 7 columns</p>\n",
              "</div>\n",
              "    <div class=\"colab-df-buttons\">\n",
              "\n",
              "  <div class=\"colab-df-container\">\n",
              "    <button class=\"colab-df-convert\" onclick=\"convertToInteractive('df-f010b9b9-3f6c-4b82-8b75-8fcdde73c559')\"\n",
              "            title=\"Convert this dataframe to an interactive table.\"\n",
              "            style=\"display:none;\">\n",
              "\n",
              "  <svg xmlns=\"http://www.w3.org/2000/svg\" height=\"24px\" viewBox=\"0 -960 960 960\">\n",
              "    <path d=\"M120-120v-720h720v720H120Zm60-500h600v-160H180v160Zm220 220h160v-160H400v160Zm0 220h160v-160H400v160ZM180-400h160v-160H180v160Zm440 0h160v-160H620v160ZM180-180h160v-160H180v160Zm440 0h160v-160H620v160Z\"/>\n",
              "  </svg>\n",
              "    </button>\n",
              "\n",
              "  <style>\n",
              "    .colab-df-container {\n",
              "      display:flex;\n",
              "      gap: 12px;\n",
              "    }\n",
              "\n",
              "    .colab-df-convert {\n",
              "      background-color: #E8F0FE;\n",
              "      border: none;\n",
              "      border-radius: 50%;\n",
              "      cursor: pointer;\n",
              "      display: none;\n",
              "      fill: #1967D2;\n",
              "      height: 32px;\n",
              "      padding: 0 0 0 0;\n",
              "      width: 32px;\n",
              "    }\n",
              "\n",
              "    .colab-df-convert:hover {\n",
              "      background-color: #E2EBFA;\n",
              "      box-shadow: 0px 1px 2px rgba(60, 64, 67, 0.3), 0px 1px 3px 1px rgba(60, 64, 67, 0.15);\n",
              "      fill: #174EA6;\n",
              "    }\n",
              "\n",
              "    .colab-df-buttons div {\n",
              "      margin-bottom: 4px;\n",
              "    }\n",
              "\n",
              "    [theme=dark] .colab-df-convert {\n",
              "      background-color: #3B4455;\n",
              "      fill: #D2E3FC;\n",
              "    }\n",
              "\n",
              "    [theme=dark] .colab-df-convert:hover {\n",
              "      background-color: #434B5C;\n",
              "      box-shadow: 0px 1px 3px 1px rgba(0, 0, 0, 0.15);\n",
              "      filter: drop-shadow(0px 1px 2px rgba(0, 0, 0, 0.3));\n",
              "      fill: #FFFFFF;\n",
              "    }\n",
              "  </style>\n",
              "\n",
              "    <script>\n",
              "      const buttonEl =\n",
              "        document.querySelector('#df-f010b9b9-3f6c-4b82-8b75-8fcdde73c559 button.colab-df-convert');\n",
              "      buttonEl.style.display =\n",
              "        google.colab.kernel.accessAllowed ? 'block' : 'none';\n",
              "\n",
              "      async function convertToInteractive(key) {\n",
              "        const element = document.querySelector('#df-f010b9b9-3f6c-4b82-8b75-8fcdde73c559');\n",
              "        const dataTable =\n",
              "          await google.colab.kernel.invokeFunction('convertToInteractive',\n",
              "                                                    [key], {});\n",
              "        if (!dataTable) return;\n",
              "\n",
              "        const docLinkHtml = 'Like what you see? Visit the ' +\n",
              "          '<a target=\"_blank\" href=https://colab.research.google.com/notebooks/data_table.ipynb>data table notebook</a>'\n",
              "          + ' to learn more about interactive tables.';\n",
              "        element.innerHTML = '';\n",
              "        dataTable['output_type'] = 'display_data';\n",
              "        await google.colab.output.renderOutput(dataTable, element);\n",
              "        const docLink = document.createElement('div');\n",
              "        docLink.innerHTML = docLinkHtml;\n",
              "        element.appendChild(docLink);\n",
              "      }\n",
              "    </script>\n",
              "  </div>\n",
              "\n",
              "\n",
              "<div id=\"df-40c1d925-3ebd-4f16-b31b-ca349dc24261\">\n",
              "  <button class=\"colab-df-quickchart\" onclick=\"quickchart('df-40c1d925-3ebd-4f16-b31b-ca349dc24261')\"\n",
              "            title=\"Suggest charts\"\n",
              "            style=\"display:none;\">\n",
              "\n",
              "<svg xmlns=\"http://www.w3.org/2000/svg\" height=\"24px\"viewBox=\"0 0 24 24\"\n",
              "     width=\"24px\">\n",
              "    <g>\n",
              "        <path d=\"M19 3H5c-1.1 0-2 .9-2 2v14c0 1.1.9 2 2 2h14c1.1 0 2-.9 2-2V5c0-1.1-.9-2-2-2zM9 17H7v-7h2v7zm4 0h-2V7h2v10zm4 0h-2v-4h2v4z\"/>\n",
              "    </g>\n",
              "</svg>\n",
              "  </button>\n",
              "\n",
              "<style>\n",
              "  .colab-df-quickchart {\n",
              "      --bg-color: #E8F0FE;\n",
              "      --fill-color: #1967D2;\n",
              "      --hover-bg-color: #E2EBFA;\n",
              "      --hover-fill-color: #174EA6;\n",
              "      --disabled-fill-color: #AAA;\n",
              "      --disabled-bg-color: #DDD;\n",
              "  }\n",
              "\n",
              "  [theme=dark] .colab-df-quickchart {\n",
              "      --bg-color: #3B4455;\n",
              "      --fill-color: #D2E3FC;\n",
              "      --hover-bg-color: #434B5C;\n",
              "      --hover-fill-color: #FFFFFF;\n",
              "      --disabled-bg-color: #3B4455;\n",
              "      --disabled-fill-color: #666;\n",
              "  }\n",
              "\n",
              "  .colab-df-quickchart {\n",
              "    background-color: var(--bg-color);\n",
              "    border: none;\n",
              "    border-radius: 50%;\n",
              "    cursor: pointer;\n",
              "    display: none;\n",
              "    fill: var(--fill-color);\n",
              "    height: 32px;\n",
              "    padding: 0;\n",
              "    width: 32px;\n",
              "  }\n",
              "\n",
              "  .colab-df-quickchart:hover {\n",
              "    background-color: var(--hover-bg-color);\n",
              "    box-shadow: 0 1px 2px rgba(60, 64, 67, 0.3), 0 1px 3px 1px rgba(60, 64, 67, 0.15);\n",
              "    fill: var(--button-hover-fill-color);\n",
              "  }\n",
              "\n",
              "  .colab-df-quickchart-complete:disabled,\n",
              "  .colab-df-quickchart-complete:disabled:hover {\n",
              "    background-color: var(--disabled-bg-color);\n",
              "    fill: var(--disabled-fill-color);\n",
              "    box-shadow: none;\n",
              "  }\n",
              "\n",
              "  .colab-df-spinner {\n",
              "    border: 2px solid var(--fill-color);\n",
              "    border-color: transparent;\n",
              "    border-bottom-color: var(--fill-color);\n",
              "    animation:\n",
              "      spin 1s steps(1) infinite;\n",
              "  }\n",
              "\n",
              "  @keyframes spin {\n",
              "    0% {\n",
              "      border-color: transparent;\n",
              "      border-bottom-color: var(--fill-color);\n",
              "      border-left-color: var(--fill-color);\n",
              "    }\n",
              "    20% {\n",
              "      border-color: transparent;\n",
              "      border-left-color: var(--fill-color);\n",
              "      border-top-color: var(--fill-color);\n",
              "    }\n",
              "    30% {\n",
              "      border-color: transparent;\n",
              "      border-left-color: var(--fill-color);\n",
              "      border-top-color: var(--fill-color);\n",
              "      border-right-color: var(--fill-color);\n",
              "    }\n",
              "    40% {\n",
              "      border-color: transparent;\n",
              "      border-right-color: var(--fill-color);\n",
              "      border-top-color: var(--fill-color);\n",
              "    }\n",
              "    60% {\n",
              "      border-color: transparent;\n",
              "      border-right-color: var(--fill-color);\n",
              "    }\n",
              "    80% {\n",
              "      border-color: transparent;\n",
              "      border-right-color: var(--fill-color);\n",
              "      border-bottom-color: var(--fill-color);\n",
              "    }\n",
              "    90% {\n",
              "      border-color: transparent;\n",
              "      border-bottom-color: var(--fill-color);\n",
              "    }\n",
              "  }\n",
              "</style>\n",
              "\n",
              "  <script>\n",
              "    async function quickchart(key) {\n",
              "      const quickchartButtonEl =\n",
              "        document.querySelector('#' + key + ' button');\n",
              "      quickchartButtonEl.disabled = true;  // To prevent multiple clicks.\n",
              "      quickchartButtonEl.classList.add('colab-df-spinner');\n",
              "      try {\n",
              "        const charts = await google.colab.kernel.invokeFunction(\n",
              "            'suggestCharts', [key], {});\n",
              "      } catch (error) {\n",
              "        console.error('Error during call to suggestCharts:', error);\n",
              "      }\n",
              "      quickchartButtonEl.classList.remove('colab-df-spinner');\n",
              "      quickchartButtonEl.classList.add('colab-df-quickchart-complete');\n",
              "    }\n",
              "    (() => {\n",
              "      let quickchartButtonEl =\n",
              "        document.querySelector('#df-40c1d925-3ebd-4f16-b31b-ca349dc24261 button');\n",
              "      quickchartButtonEl.style.display =\n",
              "        google.colab.kernel.accessAllowed ? 'block' : 'none';\n",
              "    })();\n",
              "  </script>\n",
              "</div>\n",
              "\n",
              "  <div id=\"id_b6638805-2c4d-4ab4-9779-7bf06a861e9f\">\n",
              "    <style>\n",
              "      .colab-df-generate {\n",
              "        background-color: #E8F0FE;\n",
              "        border: none;\n",
              "        border-radius: 50%;\n",
              "        cursor: pointer;\n",
              "        display: none;\n",
              "        fill: #1967D2;\n",
              "        height: 32px;\n",
              "        padding: 0 0 0 0;\n",
              "        width: 32px;\n",
              "      }\n",
              "\n",
              "      .colab-df-generate:hover {\n",
              "        background-color: #E2EBFA;\n",
              "        box-shadow: 0px 1px 2px rgba(60, 64, 67, 0.3), 0px 1px 3px 1px rgba(60, 64, 67, 0.15);\n",
              "        fill: #174EA6;\n",
              "      }\n",
              "\n",
              "      [theme=dark] .colab-df-generate {\n",
              "        background-color: #3B4455;\n",
              "        fill: #D2E3FC;\n",
              "      }\n",
              "\n",
              "      [theme=dark] .colab-df-generate:hover {\n",
              "        background-color: #434B5C;\n",
              "        box-shadow: 0px 1px 3px 1px rgba(0, 0, 0, 0.15);\n",
              "        filter: drop-shadow(0px 1px 2px rgba(0, 0, 0, 0.3));\n",
              "        fill: #FFFFFF;\n",
              "      }\n",
              "    </style>\n",
              "    <button class=\"colab-df-generate\" onclick=\"generateWithVariable('df')\"\n",
              "            title=\"Generate code using this dataframe.\"\n",
              "            style=\"display:none;\">\n",
              "\n",
              "  <svg xmlns=\"http://www.w3.org/2000/svg\" height=\"24px\"viewBox=\"0 0 24 24\"\n",
              "       width=\"24px\">\n",
              "    <path d=\"M7,19H8.4L18.45,9,17,7.55,7,17.6ZM5,21V16.75L18.45,3.32a2,2,0,0,1,2.83,0l1.4,1.43a1.91,1.91,0,0,1,.58,1.4,1.91,1.91,0,0,1-.58,1.4L9.25,21ZM18.45,9,17,7.55Zm-12,3A5.31,5.31,0,0,0,4.9,8.1,5.31,5.31,0,0,0,1,6.5,5.31,5.31,0,0,0,4.9,4.9,5.31,5.31,0,0,0,6.5,1,5.31,5.31,0,0,0,8.1,4.9,5.31,5.31,0,0,0,12,6.5,5.46,5.46,0,0,0,6.5,12Z\"/>\n",
              "  </svg>\n",
              "    </button>\n",
              "    <script>\n",
              "      (() => {\n",
              "      const buttonEl =\n",
              "        document.querySelector('#id_b6638805-2c4d-4ab4-9779-7bf06a861e9f button.colab-df-generate');\n",
              "      buttonEl.style.display =\n",
              "        google.colab.kernel.accessAllowed ? 'block' : 'none';\n",
              "\n",
              "      buttonEl.onclick = () => {\n",
              "        google.colab.notebook.generateWithVariable('df');\n",
              "      }\n",
              "      })();\n",
              "    </script>\n",
              "  </div>\n",
              "\n",
              "    </div>\n",
              "  </div>\n"
            ],
            "application/vnd.google.colaboratory.intrinsic+json": {
              "type": "dataframe",
              "variable_name": "df",
              "summary": "{\n  \"name\": \"df\",\n  \"rows\": 311,\n  \"fields\": [\n    {\n      \"column\": \"date\",\n      \"properties\": {\n        \"dtype\": \"object\",\n        \"num_unique_values\": 311,\n        \"samples\": [\n          \"2023-10-18\",\n          \"2023-01-10\",\n          \"2023-02-27\"\n        ],\n        \"semantic_type\": \"\",\n        \"description\": \"\"\n      }\n    },\n    {\n      \"column\": \"avg_temperature\",\n      \"properties\": {\n        \"dtype\": \"number\",\n        \"std\": 6.802475192581133,\n        \"min\": 15.0,\n        \"max\": 35.0,\n        \"num_unique_values\": 243,\n        \"samples\": [\n          31.69153658441865,\n          23.671006065431467,\n          16.698991846898437\n        ],\n        \"semantic_type\": \"\",\n        \"description\": \"\"\n      }\n    },\n    {\n      \"column\": \"humidity\",\n      \"properties\": {\n        \"dtype\": \"number\",\n        \"std\": 19.220133401049218,\n        \"min\": 30.0,\n        \"max\": 90.0,\n        \"num_unique_values\": 239,\n        \"samples\": [\n          90.0,\n          63.99741828168625,\n          71.34337265142152\n        ],\n        \"semantic_type\": \"\",\n        \"description\": \"\"\n      }\n    },\n    {\n      \"column\": \"avg_wind_speed\",\n      \"properties\": {\n        \"dtype\": \"number\",\n        \"std\": 5.34468279754397,\n        \"min\": 0.0694803450690428,\n        \"max\": 56.63604122331817,\n        \"num_unique_values\": 296,\n        \"samples\": [\n          4.460235110588261,\n          3.11829382719041,\n          13.797834246191409\n        ],\n        \"semantic_type\": \"\",\n        \"description\": \"\"\n      }\n    },\n    {\n      \"column\": \"rain_or_not\",\n      \"properties\": {\n        \"dtype\": \"category\",\n        \"num_unique_values\": 2,\n        \"samples\": [\n          \"No Rain\",\n          \"Rain\"\n        ],\n        \"semantic_type\": \"\",\n        \"description\": \"\"\n      }\n    },\n    {\n      \"column\": \"cloud_cover\",\n      \"properties\": {\n        \"dtype\": \"number\",\n        \"std\": 29.00945915899584,\n        \"min\": 0.3218263604278681,\n        \"max\": 99.83475113929497,\n        \"num_unique_values\": 296,\n        \"samples\": [\n          99.83475113929497,\n          74.8073179429532\n        ],\n        \"semantic_type\": \"\",\n        \"description\": \"\"\n      }\n    },\n    {\n      \"column\": \"pressure\",\n      \"properties\": {\n        \"dtype\": \"number\",\n        \"std\": 28.835594861364306,\n        \"min\": 951.2404036277314,\n        \"max\": 1049.543751619131,\n        \"num_unique_values\": 311,\n        \"samples\": [\n          1020.2633773085516,\n          1022.7939306973764\n        ],\n        \"semantic_type\": \"\",\n        \"description\": \"\"\n      }\n    }\n  ]\n}"
            }
          },
          "metadata": {},
          "execution_count": 45
        }
      ]
    },
    {
      "cell_type": "code",
      "source": [
        "print(\"\\nMissing Values:\\n\", df.isnull().sum())"
      ],
      "metadata": {
        "colab": {
          "base_uri": "https://localhost:8080/"
        },
        "id": "qdEvSjG99VMK",
        "outputId": "d3a78025-a4ab-4557-ad91-3ec464f38fd2"
      },
      "execution_count": 46,
      "outputs": [
        {
          "output_type": "stream",
          "name": "stdout",
          "text": [
            "\n",
            "Missing Values:\n",
            " date                0\n",
            "avg_temperature    15\n",
            "humidity           15\n",
            "avg_wind_speed     15\n",
            "rain_or_not         0\n",
            "cloud_cover        15\n",
            "pressure            0\n",
            "dtype: int64\n"
          ]
        }
      ]
    },
    {
      "cell_type": "code",
      "source": [
        "df['avg_temperature'].fillna(df['avg_temperature'].mean(), inplace=True)\n",
        "df['humidity'].fillna(df['humidity'].mean(), inplace=True)\n",
        "df['avg_wind_speed'].fillna(df['avg_wind_speed'].mean(), inplace=True)\n",
        "\n",
        "print(\"\\nMissing Values:\\n\", df.isnull().sum())\n"
      ],
      "metadata": {
        "colab": {
          "base_uri": "https://localhost:8080/"
        },
        "id": "Oj3hSh_99pBC",
        "outputId": "06446d21-c908-4ee9-cefe-9b821d640412"
      },
      "execution_count": 47,
      "outputs": [
        {
          "output_type": "stream",
          "name": "stdout",
          "text": [
            "\n",
            "Missing Values:\n",
            " date                0\n",
            "avg_temperature     0\n",
            "humidity            0\n",
            "avg_wind_speed      0\n",
            "rain_or_not         0\n",
            "cloud_cover        15\n",
            "pressure            0\n",
            "dtype: int64\n"
          ]
        },
        {
          "output_type": "stream",
          "name": "stderr",
          "text": [
            "<ipython-input-47-7b99aa0293c4>:1: FutureWarning: A value is trying to be set on a copy of a DataFrame or Series through chained assignment using an inplace method.\n",
            "The behavior will change in pandas 3.0. This inplace method will never work because the intermediate object on which we are setting values always behaves as a copy.\n",
            "\n",
            "For example, when doing 'df[col].method(value, inplace=True)', try using 'df.method({col: value}, inplace=True)' or df[col] = df[col].method(value) instead, to perform the operation inplace on the original object.\n",
            "\n",
            "\n",
            "  df['avg_temperature'].fillna(df['avg_temperature'].mean(), inplace=True)\n",
            "<ipython-input-47-7b99aa0293c4>:2: FutureWarning: A value is trying to be set on a copy of a DataFrame or Series through chained assignment using an inplace method.\n",
            "The behavior will change in pandas 3.0. This inplace method will never work because the intermediate object on which we are setting values always behaves as a copy.\n",
            "\n",
            "For example, when doing 'df[col].method(value, inplace=True)', try using 'df.method({col: value}, inplace=True)' or df[col] = df[col].method(value) instead, to perform the operation inplace on the original object.\n",
            "\n",
            "\n",
            "  df['humidity'].fillna(df['humidity'].mean(), inplace=True)\n",
            "<ipython-input-47-7b99aa0293c4>:3: FutureWarning: A value is trying to be set on a copy of a DataFrame or Series through chained assignment using an inplace method.\n",
            "The behavior will change in pandas 3.0. This inplace method will never work because the intermediate object on which we are setting values always behaves as a copy.\n",
            "\n",
            "For example, when doing 'df[col].method(value, inplace=True)', try using 'df.method({col: value}, inplace=True)' or df[col] = df[col].method(value) instead, to perform the operation inplace on the original object.\n",
            "\n",
            "\n",
            "  df['avg_wind_speed'].fillna(df['avg_wind_speed'].mean(), inplace=True)\n"
          ]
        }
      ]
    },
    {
      "cell_type": "code",
      "source": [
        "df = df[(df['avg_temperature'] >= -50) & (df['avg_temperature'] <= 60)]\n",
        "df = df[(df['humidity'] >= 0) & (df['humidity'] <= 100)]\n",
        "df = df[df['avg_wind_speed'] >= 0]\n",
        "print(\"DataFrame Shape:\", df.shape)"
      ],
      "metadata": {
        "colab": {
          "base_uri": "https://localhost:8080/"
        },
        "id": "QPP-fhlE-A7c",
        "outputId": "5fe8a0d5-b467-4f58-ca49-d499db2b9c18"
      },
      "execution_count": 48,
      "outputs": [
        {
          "output_type": "stream",
          "name": "stdout",
          "text": [
            "DataFrame Shape: (311, 7)\n"
          ]
        }
      ]
    },
    {
      "cell_type": "code",
      "source": [
        "print(df['rain_or_not'].unique())\n",
        "df['rain_or_not'] = df['rain_or_not'].str.strip()"
      ],
      "metadata": {
        "colab": {
          "base_uri": "https://localhost:8080/"
        },
        "id": "NVWeW3aX_JX9",
        "outputId": "ebda4383-7c32-43f4-b507-ba559f65ecff"
      },
      "execution_count": 49,
      "outputs": [
        {
          "output_type": "stream",
          "name": "stdout",
          "text": [
            "['Rain' 'No Rain']\n"
          ]
        }
      ]
    },
    {
      "cell_type": "code",
      "source": [
        "# Map string labels to numeric\n",
        "mapping_dict = {\n",
        "    'Rain': 1,\n",
        "    'No Rain': 0\n",
        "}\n",
        "df['rain_or_not'] = df['rain_or_not'].map(mapping_dict)\n",
        "\n",
        "df.dropna(subset=['rain_or_not'], inplace=True)\n",
        "df['rain_or_not'] = df['rain_or_not'].astype(int)"
      ],
      "metadata": {
        "id": "YJmDpKfh-Mgl"
      },
      "execution_count": 50,
      "outputs": []
    },
    {
      "cell_type": "code",
      "source": [
        "print(df.head())"
      ],
      "metadata": {
        "colab": {
          "base_uri": "https://localhost:8080/"
        },
        "id": "Vy9hr_Q8_Yr8",
        "outputId": "09109ed2-c36c-4d85-feaf-2efb2ac9f2ea"
      },
      "execution_count": 51,
      "outputs": [
        {
          "output_type": "stream",
          "name": "stdout",
          "text": [
            "         date  avg_temperature   humidity  avg_wind_speed  rain_or_not  \\\n",
            "0  2023-01-01        23.745401  46.140905        7.845981            1   \n",
            "1  2023-01-02        30.030503  59.876587        5.382457            1   \n",
            "2  2023-01-03        28.365224  51.464618       13.158008            1   \n",
            "3  2023-01-04        27.550929  53.103799        5.886677            1   \n",
            "4  2023-01-05        23.639303  57.826186       12.248992            1   \n",
            "\n",
            "   cloud_cover     pressure  \n",
            "0    20.851051   992.965681  \n",
            "1    93.059521  1037.273025  \n",
            "2    11.636640  1034.193357  \n",
            "3    81.744971   968.610142  \n",
            "4    38.062329  1030.264331  \n"
          ]
        }
      ]
    },
    {
      "cell_type": "code",
      "source": [
        "print(\"\\nMissing Values:\\n\", df.isnull().sum())"
      ],
      "metadata": {
        "colab": {
          "base_uri": "https://localhost:8080/"
        },
        "id": "POWOLgEH_gCw",
        "outputId": "bf08693b-5e50-46bc-aa87-50fe10c1f2a7"
      },
      "execution_count": 52,
      "outputs": [
        {
          "output_type": "stream",
          "name": "stdout",
          "text": [
            "\n",
            "Missing Values:\n",
            " date                0\n",
            "avg_temperature     0\n",
            "humidity            0\n",
            "avg_wind_speed      0\n",
            "rain_or_not         0\n",
            "cloud_cover        15\n",
            "pressure            0\n",
            "dtype: int64\n"
          ]
        }
      ]
    },
    {
      "cell_type": "markdown",
      "source": [],
      "metadata": {
        "id": "9jvjR6xp-MFM"
      }
    },
    {
      "cell_type": "code",
      "source": [
        "print(\"\\nStatistical Summary:\")\n",
        "print(df.describe())\n",
        "\n",
        "# Plot 1: avg_temperature distribution\n",
        "plt.figure()\n",
        "plt.hist(df['avg_temperature'], bins=20)\n",
        "plt.title(\"Distribution of Average Temperature\")\n",
        "plt.xlabel(\"Average Temperature (°C)\")\n",
        "plt.ylabel(\"Frequency\")\n",
        "plt.show()\n",
        "\n",
        "# Plot 2: humidity distribution\n",
        "plt.figure()\n",
        "plt.hist(df['humidity'], bins=20)\n",
        "plt.title(\"Distribution of Humidity\")\n",
        "plt.xlabel(\"Humidity (%)\")\n",
        "plt.ylabel(\"Frequency\")\n",
        "plt.show()\n",
        "\n",
        "# Plot 3: avg_wind_speed distribution\n",
        "plt.figure()\n",
        "plt.hist(df['avg_wind_speed'], bins=20)\n",
        "plt.title(\"Distribution of Average Wind Speed\")\n",
        "plt.xlabel(\"Wind Speed (km/h)\")\n",
        "plt.ylabel(\"Frequency\")\n",
        "plt.show()\n",
        "\n",
        "# We can do a simple grouping or correlation analysis\n",
        "correlation_matrix = df[['avg_temperature','humidity','avg_wind_speed','rain_or_not']].corr()\n",
        "\n",
        "# Correlation Heatmap (using matplotlib)\n",
        "plt.figure()\n",
        "plt.imshow(correlation_matrix, cmap='viridis', aspect='auto')\n",
        "plt.xticks(range(len(correlation_matrix.columns)), correlation_matrix.columns, rotation=45)\n",
        "plt.yticks(range(len(correlation_matrix.columns)), correlation_matrix.columns)\n",
        "plt.title(\"Correlation Matrix\")\n",
        "plt.colorbar()\n",
        "plt.show()\n",
        "\n",
        "print(\"\\nCorrelation Matrix:\")\n",
        "print(correlation_matrix)"
      ],
      "metadata": {
        "colab": {
          "base_uri": "https://localhost:8080/",
          "height": 1000
        },
        "id": "vTkaQSU6_vEw",
        "outputId": "f3b23319-38d7-41d8-9788-ad75dcef9bed"
      },
      "execution_count": 53,
      "outputs": [
        {
          "output_type": "stream",
          "name": "stdout",
          "text": [
            "\n",
            "Statistical Summary:\n",
            "       avg_temperature    humidity  avg_wind_speed  rain_or_not  cloud_cover  \\\n",
            "count       311.000000  311.000000      311.000000   311.000000   296.000000   \n",
            "mean         25.983840   55.041385        7.556636     0.636656    49.834827   \n",
            "std           6.635859   18.749365        5.213773     0.481738    29.009459   \n",
            "min          15.000000   30.000000        0.069480     0.000000     0.321826   \n",
            "25%          20.493383   35.686194        3.711684     0.000000    24.530951   \n",
            "50%          25.983840   55.041385        7.556636     1.000000    50.725120   \n",
            "75%          31.858688   71.978037       10.897166     1.000000    76.046506   \n",
            "max          35.000000   90.000000       56.636041     1.000000    99.834751   \n",
            "\n",
            "          pressure  \n",
            "count   311.000000  \n",
            "mean   1001.059119  \n",
            "std      28.835595  \n",
            "min     951.240404  \n",
            "25%     975.757545  \n",
            "50%    1001.938586  \n",
            "75%    1026.578884  \n",
            "max    1049.543752  \n"
          ]
        },
        {
          "output_type": "display_data",
          "data": {
            "text/plain": [
              "<Figure size 640x480 with 1 Axes>"
            ],
            "image/png": "[encoded data removed]"
          },
          "metadata": {}
        },
        {
          "output_type": "display_data",
          "data": {
            "text/plain": [
              "<Figure size 640x480 with 1 Axes>"
            ],
            "image/png": "[encoded data removed]"
          },
          "metadata": {}
        },
        {
          "output_type": "display_data",
          "data": {
            "text/plain": [
              "<Figure size 640x480 with 1 Axes>"
            ],
            "image/png": "[encoded data removed]"
          },
          "metadata": {}
        },
        {
          "output_type": "display_data",
          "data": {
            "text/plain": [
              "<Figure size 640x480 with 2 Axes>"
            ],
            "image/png": "[encoded data removed]"
          },
          "metadata": {}
        },
        {
          "output_type": "stream",
          "name": "stdout",
          "text": [
            "\n",
            "Correlation Matrix:\n",
            "                 avg_temperature  humidity  avg_wind_speed  rain_or_not\n",
            "avg_temperature         1.000000  0.902001        0.007954     0.294948\n",
            "humidity                0.902001  1.000000       -0.006393     0.321914\n",
            "avg_wind_speed          0.007954 -0.006393        1.000000     0.125754\n",
            "rain_or_not             0.294948  0.321914        0.125754     1.000000\n"
          ]
        }
      ]
    },
    {
      "cell_type": "code",
      "source": [
        "X = df[['avg_temperature', 'humidity', 'avg_wind_speed']]\n",
        "y = df['rain_or_not']\n",
        "\n",
        "X_train, X_test, y_train, y_test = train_test_split(X, y, test_size=21, shuffle=False)\n",
        "# If you want a random split ignoring the time factor, set e.g. test_size=0.2 and shuffle=True\n",
        "# X_train, X_test, y_train, y_test = train_test_split(X, y, test_size=0.2, random_state=42)\n",
        "\n",
        "print(f\"\\nTrain set size: {X_train.shape[0]}, Test set size: {X_test.shape[0]}\")"
      ],
      "metadata": {
        "colab": {
          "base_uri": "https://localhost:8080/"
        },
        "id": "_TR9AFFJAxar",
        "outputId": "64b36662-cd54-43a2-e82b-f2a75721e00b"
      },
      "execution_count": 54,
      "outputs": [
        {
          "output_type": "stream",
          "name": "stdout",
          "text": [
            "\n",
            "Train set size: 290, Test set size: 21\n"
          ]
        }
      ]
    },
    {
      "cell_type": "code",
      "source": [
        "cat_model = CatBoostClassifier(verbose=0, random_state=42)\n",
        "cat_model.fit(X_train_scaled, y_train)\n",
        "y_pred_cat = cat_model.predict(X_test_scaled)\n",
        "accuracy_cat = accuracy_score(y_test, y_pred_cat)\n",
        "\n",
        "print(\"CatBoost Accuracy (default hyperparams):\", accuracy_cat)\n",
        "print(\"Classification Report:\")\n",
        "print(classification_report(y_test, y_pred_cat))\n",
        "\n",
        "# 2. Hyperparameter tuning\n",
        "cat_param_grid = {\n",
        "    'depth': [4, 6, 8],\n",
        "    'iterations': [50, 100, 200],\n",
        "    'learning_rate': [0.01, 0.1],\n",
        "}\n",
        "cat_search = GridSearchCV(\n",
        "    estimator=CatBoostClassifier(verbose=0, random_state=42),\n",
        "    param_grid=cat_param_grid,\n",
        "    scoring='accuracy',\n",
        "    cv=3,\n",
        "    n_jobs=-1\n",
        ")\n",
        "cat_search.fit(X_train_scaled, y_train)\n",
        "\n",
        "print(\"\\nBest Params for CatBoost:\", cat_search.best_params_)\n",
        "print(\"Best CV Score:\", cat_search.best_score_)\n",
        "\n",
        "# Evaluate best model on test set\n",
        "best_cat = cat_search.best_estimator_\n",
        "y_pred_best_cat = best_cat.predict(X_test_scaled)\n",
        "accuracy_best_cat = accuracy_score(y_test, y_pred_best_cat)\n",
        "print(\"\\nCatBoost Test Accuracy (tuned):\", accuracy_best_cat)\n",
        "print(\"Classification Report:\")\n",
        "print(classification_report(y_test, y_pred_best_cat))\n",
        "\n",
        "# 3. Probability of Rain\n",
        "y_proba_cat = best_cat.predict_proba(X_test_scaled)[:, 1]\n",
        "\n",
        "predictions_df_cat = pd.DataFrame({\n",
        "    'date': df['date'].iloc[X_test.index],\n",
        "    'actual_rain': y_test.values,\n",
        "    'predicted_probability_rain': y_proba_cat\n",
        "}).reset_index(drop=True)\n",
        "\n",
        "print(\"\\nPredicted Probability of Rain (CatBoost) for Test Days:\")\n",
        "print(predictions_df_cat)\n"
      ],
      "metadata": {
        "colab": {
          "base_uri": "https://localhost:8080/"
        },
        "id": "e_lk30uQF8Rf",
        "outputId": "ae1dfa4d-c6ce-4ec3-9aec-9e1fee2677a1"
      },
      "execution_count": 55,
      "outputs": [
        {
          "output_type": "stream",
          "name": "stdout",
          "text": [
            "CatBoost Accuracy (default hyperparams): 0.47619047619047616\n",
            "Classification Report:\n",
            "              precision    recall  f1-score   support\n",
            "\n",
            "           0       0.43      0.30      0.35        10\n",
            "           1       0.50      0.64      0.56        11\n",
            "\n",
            "    accuracy                           0.48        21\n",
            "   macro avg       0.46      0.47      0.46        21\n",
            "weighted avg       0.47      0.48      0.46        21\n",
            "\n",
            "\n",
            "Best Params for CatBoost: {'depth': 4, 'iterations': 200, 'learning_rate': 0.01}\n",
            "Best CV Score: 0.634020618556701\n",
            "\n",
            "CatBoost Test Accuracy (tuned): 0.5714285714285714\n",
            "Classification Report:\n",
            "              precision    recall  f1-score   support\n",
            "\n",
            "           0       0.60      0.30      0.40        10\n",
            "           1       0.56      0.82      0.67        11\n",
            "\n",
            "    accuracy                           0.57        21\n",
            "   macro avg       0.58      0.56      0.53        21\n",
            "weighted avg       0.58      0.57      0.54        21\n",
            "\n",
            "\n",
            "Predicted Probability of Rain (CatBoost) for Test Days:\n",
            "          date  actual_rain  predicted_probability_rain\n",
            "0   2023-10-18            1                    0.788373\n",
            "1   2023-10-19            1                    0.727992\n",
            "2   2023-10-20            1                    0.687367\n",
            "3   2023-10-21            0                    0.765844\n",
            "4   2023-10-22            1                    0.792944\n",
            "5   2023-10-23            1                    0.771250\n",
            "6   2023-10-24            1                    0.554942\n",
            "7   2023-10-25            0                    0.749853\n",
            "8   2023-10-26            1                    0.525470\n",
            "9   2023-10-27            1                    0.451083\n",
            "10  2023-10-28            0                    0.413845\n",
            "11  2023-10-29            1                    0.365041\n",
            "12  2023-10-30            0                    0.647322\n",
            "13  2023-10-31            0                    0.658836\n",
            "14  2023-11-01            1                    0.535726\n",
            "15  2023-11-02            0                    0.329801\n",
            "16  2023-11-03            0                    0.508997\n",
            "17  2023-11-04            0                    0.543183\n",
            "18  2023-11-05            1                    0.549522\n",
            "19  2023-11-06            0                    0.491244\n",
            "20  2023-11-07            0                    0.527098\n"
          ]
        }
      ]
    },
    {
      "cell_type": "code",
      "source": [
        "scaler = StandardScaler()\n",
        "scaler.fit(X_train)\n",
        "\n",
        "X_train_scaled = scaler.transform(X_train)\n",
        "X_test_scaled = scaler.transform(X_test)"
      ],
      "metadata": {
        "id": "mhAlH2BJBJBa"
      },
      "execution_count": 56,
      "outputs": []
    },
    {
      "cell_type": "code",
      "source": [
        "models = {\n",
        "    \"LogisticRegression\": LogisticRegression(),\n",
        "    \"DecisionTree\": DecisionTreeClassifier(),\n",
        "    \"RandomForest\": RandomForestClassifier(),\n",
        "    \"GradientBoosting\": GradientBoostingClassifier()\n",
        "}\n",
        "\n",
        "for model_name, model_obj in models.items():\n",
        "    model_obj.fit(X_train_scaled, y_train)\n",
        "    y_pred = model_obj.predict(X_test_scaled)\n",
        "    accuracy = accuracy_score(y_test, y_pred)\n",
        "    print(f\"\\nModel: {model_name}\")\n",
        "    print(\"Accuracy:\", accuracy)\n",
        "    print(\"Classification Report:\")\n",
        "    print(classification_report(y_test, y_pred))\n",
        "    print(\"Confusion Matrix:\\n\", confusion_matrix(y_test, y_pred))"
      ],
      "metadata": {
        "colab": {
          "base_uri": "https://localhost:8080/"
        },
        "id": "ClIiG0OzBQnh",
        "outputId": "3216db5a-d590-4c67-ebfa-54b6608b279d"
      },
      "execution_count": 57,
      "outputs": [
        {
          "output_type": "stream",
          "name": "stdout",
          "text": [
            "\n",
            "Model: LogisticRegression\n",
            "Accuracy: 0.6666666666666666\n",
            "Classification Report:\n",
            "              precision    recall  f1-score   support\n",
            "\n",
            "           0       1.00      0.30      0.46        10\n",
            "           1       0.61      1.00      0.76        11\n",
            "\n",
            "    accuracy                           0.67        21\n",
            "   macro avg       0.81      0.65      0.61        21\n",
            "weighted avg       0.80      0.67      0.62        21\n",
            "\n",
            "Confusion Matrix:\n",
            " [[ 3  7]\n",
            " [ 0 11]]\n",
            "\n",
            "Model: DecisionTree\n",
            "Accuracy: 0.47619047619047616\n",
            "Classification Report:\n",
            "              precision    recall  f1-score   support\n",
            "\n",
            "           0       0.45      0.50      0.48        10\n",
            "           1       0.50      0.45      0.48        11\n",
            "\n",
            "    accuracy                           0.48        21\n",
            "   macro avg       0.48      0.48      0.48        21\n",
            "weighted avg       0.48      0.48      0.48        21\n",
            "\n",
            "Confusion Matrix:\n",
            " [[5 5]\n",
            " [6 5]]\n",
            "\n",
            "Model: RandomForest\n",
            "Accuracy: 0.5714285714285714\n",
            "Classification Report:\n",
            "              precision    recall  f1-score   support\n",
            "\n",
            "           0       0.57      0.40      0.47        10\n",
            "           1       0.57      0.73      0.64        11\n",
            "\n",
            "    accuracy                           0.57        21\n",
            "   macro avg       0.57      0.56      0.56        21\n",
            "weighted avg       0.57      0.57      0.56        21\n",
            "\n",
            "Confusion Matrix:\n",
            " [[4 6]\n",
            " [3 8]]\n",
            "\n",
            "Model: GradientBoosting\n",
            "Accuracy: 0.5238095238095238\n",
            "Classification Report:\n",
            "              precision    recall  f1-score   support\n",
            "\n",
            "           0       0.50      0.30      0.38        10\n",
            "           1       0.53      0.73      0.62        11\n",
            "\n",
            "    accuracy                           0.52        21\n",
            "   macro avg       0.52      0.51      0.50        21\n",
            "weighted avg       0.52      0.52      0.50        21\n",
            "\n",
            "Confusion Matrix:\n",
            " [[3 7]\n",
            " [3 8]]\n"
          ]
        }
      ]
    },
    {
      "cell_type": "code",
      "source": [
        "param_grid = {\n",
        "    'n_estimators': [50, 100],\n",
        "    'max_depth': [3, 5, 7],\n",
        "    'min_samples_split': [2, 5]\n",
        "}\n",
        "grid_search = GridSearchCV(RandomForestClassifier(random_state=42),\n",
        "                           param_grid,\n",
        "                           cv=3,\n",
        "                           scoring='accuracy',\n",
        "                           n_jobs=-1)\n",
        "grid_search.fit(X_train_scaled, y_train)\n",
        "\n",
        "print(\"\\nBest Params for Random Forest:\", grid_search.best_params_)\n",
        "print(\"Best Score:\", grid_search.best_score_)\n",
        "\n",
        "best_rf = grid_search.best_estimator_\n",
        "\n",
        "# Evaluate on test set\n",
        "y_pred_best_rf = best_rf.predict(X_test_scaled)\n",
        "accuracy_best_rf = accuracy_score(y_test, y_pred_best_rf)\n",
        "print(f\"\\nTest Accuracy (Tuned RF): {accuracy_best_rf}\")\n",
        "print(\"Classification Report:\")\n",
        "print(classification_report(y_test, y_pred_best_rf))"
      ],
      "metadata": {
        "colab": {
          "base_uri": "https://localhost:8080/"
        },
        "id": "hYHl_9FtB-hx",
        "outputId": "d5c88cb2-cae5-4dac-a43e-e20ea4d8b81a"
      },
      "execution_count": 58,
      "outputs": [
        {
          "output_type": "stream",
          "name": "stdout",
          "text": [
            "\n",
            "Best Params for Random Forest: {'max_depth': 5, 'min_samples_split': 5, 'n_estimators': 100}\n",
            "Best Score: 0.6341638029782359\n",
            "\n",
            "Test Accuracy (Tuned RF): 0.5238095238095238\n",
            "Classification Report:\n",
            "              precision    recall  f1-score   support\n",
            "\n",
            "           0       0.50      0.30      0.38        10\n",
            "           1       0.53      0.73      0.62        11\n",
            "\n",
            "    accuracy                           0.52        21\n",
            "   macro avg       0.52      0.51      0.50        21\n",
            "weighted avg       0.52      0.52      0.50        21\n",
            "\n"
          ]
        }
      ]
    },
    {
      "cell_type": "code",
      "source": [
        "final_model = best_rf\n",
        "\n",
        "# Probability predictions for the test set (21 days)\n",
        "y_proba_test = final_model.predict_proba(X_test_scaled)[:, 1]\n",
        "\n",
        "# Display the predicted probabilities for each test sample\n",
        "predictions_df = pd.DataFrame({\n",
        "    'date': df['date'].iloc[X_test.index],\n",
        "    'actual_rain': y_test.values,\n",
        "    'predicted_probability_rain': y_proba_test\n",
        "}).reset_index(drop=True)\n",
        "\n",
        "print(\"\\nPredicted Probability of Rain for Test Days:\")\n",
        "print(predictions_df)"
      ],
      "metadata": {
        "colab": {
          "base_uri": "https://localhost:8080/"
        },
        "id": "4xufATcNDBxN",
        "outputId": "d28f433d-816a-49db-e384-ff8df2da7ca2"
      },
      "execution_count": 59,
      "outputs": [
        {
          "output_type": "stream",
          "name": "stdout",
          "text": [
            "\n",
            "Predicted Probability of Rain for Test Days:\n",
            "          date  actual_rain  predicted_probability_rain\n",
            "0   2023-10-18            1                    0.791249\n",
            "1   2023-10-19            1                    0.804601\n",
            "2   2023-10-20            1                    0.716980\n",
            "3   2023-10-21            0                    0.790827\n",
            "4   2023-10-22            1                    0.836611\n",
            "5   2023-10-23            1                    0.791325\n",
            "6   2023-10-24            1                    0.618873\n",
            "7   2023-10-25            0                    0.746480\n",
            "8   2023-10-26            1                    0.453075\n",
            "9   2023-10-27            1                    0.341497\n",
            "10  2023-10-28            0                    0.272027\n",
            "11  2023-10-29            1                    0.289115\n",
            "12  2023-10-30            0                    0.678706\n",
            "13  2023-10-31            0                    0.709858\n",
            "14  2023-11-01            1                    0.528265\n",
            "15  2023-11-02            0                    0.247414\n",
            "16  2023-11-03            0                    0.523044\n",
            "17  2023-11-04            0                    0.536252\n",
            "18  2023-11-05            1                    0.564090\n",
            "19  2023-11-06            0                    0.505067\n",
            "20  2023-11-07            0                    0.475984\n"
          ]
        }
      ]
    }
  ]
}